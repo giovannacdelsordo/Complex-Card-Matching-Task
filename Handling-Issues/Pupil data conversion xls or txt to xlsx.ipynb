{
 "cells": [
  {
   "cell_type": "code",
   "execution_count": null,
   "id": "fecb59e5",
   "metadata": {},
   "outputs": [],
   "source": [
    "# This script processes a folder of .xls files, including those that might be mislabeled or improperly formatted, and converts them into valid .xlsx files. "
   ]
  },
  {
   "cell_type": "code",
   "execution_count": null,
   "id": "0fcdcfb7",
   "metadata": {},
   "outputs": [
    {
     "name": "stdout",
     "output_type": "stream",
     "text": [
      "Warning: /Users/giovannadelsordo/Documents/PhD/Research projects - In progress/Exploration-Exploitation/CCS Version 2/CCS2 data/Pupil data/data_CCS662.xls is not a valid .xls file. Attempting to read as plain text.\n",
      "Converted and saved: /Users/giovannadelsordo/Documents/PhD/Research projects - In progress/Exploration-Exploitation/CCS Version 2/CCS2 data/Pupil data/UPDATED/data_CCS662.xlsx\n",
      "Warning: /Users/giovannadelsordo/Documents/PhD/Research projects - In progress/Exploration-Exploitation/CCS Version 2/CCS2 data/Pupil data/Output_CCS124.xls is not a valid .xls file. Attempting to read as plain text.\n",
      "Converted and saved: /Users/giovannadelsordo/Documents/PhD/Research projects - In progress/Exploration-Exploitation/CCS Version 2/CCS2 data/Pupil data/UPDATED/Output_CCS124.xlsx\n",
      "Warning: /Users/giovannadelsordo/Documents/PhD/Research projects - In progress/Exploration-Exploitation/CCS Version 2/CCS2 data/Pupil data/Output_CCS131.xls is not a valid .xls file. Attempting to read as plain text.\n",
      "Converted and saved: /Users/giovannadelsordo/Documents/PhD/Research projects - In progress/Exploration-Exploitation/CCS Version 2/CCS2 data/Pupil data/UPDATED/Output_CCS131.xlsx\n",
      "Warning: /Users/giovannadelsordo/Documents/PhD/Research projects - In progress/Exploration-Exploitation/CCS Version 2/CCS2 data/Pupil data/Output_CCS119.xls is not a valid .xls file. Attempting to read as plain text.\n",
      "Converted and saved: /Users/giovannadelsordo/Documents/PhD/Research projects - In progress/Exploration-Exploitation/CCS Version 2/CCS2 data/Pupil data/UPDATED/Output_CCS119.xlsx\n",
      "Warning: /Users/giovannadelsordo/Documents/PhD/Research projects - In progress/Exploration-Exploitation/CCS Version 2/CCS2 data/Pupil data/data_CCS663.xls is not a valid .xls file. Attempting to read as plain text.\n",
      "Converted and saved: /Users/giovannadelsordo/Documents/PhD/Research projects - In progress/Exploration-Exploitation/CCS Version 2/CCS2 data/Pupil data/UPDATED/data_CCS663.xlsx\n",
      "Warning: /Users/giovannadelsordo/Documents/PhD/Research projects - In progress/Exploration-Exploitation/CCS Version 2/CCS2 data/Pupil data/data_CCS649.xls is not a valid .xls file. Attempting to read as plain text.\n",
      "Converted and saved: /Users/giovannadelsordo/Documents/PhD/Research projects - In progress/Exploration-Exploitation/CCS Version 2/CCS2 data/Pupil data/UPDATED/data_CCS649.xlsx\n",
      "Warning: /Users/giovannadelsordo/Documents/PhD/Research projects - In progress/Exploration-Exploitation/CCS Version 2/CCS2 data/Pupil data/data_CCS675.xls is not a valid .xls file. Attempting to read as plain text.\n",
      "Converted and saved: /Users/giovannadelsordo/Documents/PhD/Research projects - In progress/Exploration-Exploitation/CCS Version 2/CCS2 data/Pupil data/UPDATED/data_CCS675.xlsx\n",
      "Warning: /Users/giovannadelsordo/Documents/PhD/Research projects - In progress/Exploration-Exploitation/CCS Version 2/CCS2 data/Pupil data/data_CCS661.xls is not a valid .xls file. Attempting to read as plain text.\n",
      "Converted and saved: /Users/giovannadelsordo/Documents/PhD/Research projects - In progress/Exploration-Exploitation/CCS Version 2/CCS2 data/Pupil data/UPDATED/data_CCS661.xlsx\n",
      "Warning: /Users/giovannadelsordo/Documents/PhD/Research projects - In progress/Exploration-Exploitation/CCS Version 2/CCS2 data/Pupil data/Output_CCS126.xls is not a valid .xls file. Attempting to read as plain text.\n"
     ]
    }
   ],
   "source": [
    "import os\n",
    "import pandas as pd\n",
    "\n",
    "# Paths\n",
    "input_folder = \"/Users/giovannadelsordo/Documents/PhD/Research projects - In progress/Exploration-Exploitation/CCS Version 2/CCS2 data/Pupil data\"  # Replace with your input folder path\n",
    "output_folder = \"/Users/giovannadelsordo/Documents/PhD/Research projects - In progress/Exploration-Exploitation/CCS Version 2/CCS2 data/Pupil data/UPDATED\"  # Replace with your output folder path\n",
    "\n",
    "# Create the output folder if it doesn't exist\n",
    "os.makedirs(output_folder, exist_ok=True)\n",
    "\n",
    "# Function to convert mislabeled .xls to .xlsx\n",
    "def convert_file_to_xlsx(file_path, output_path):\n",
    "    try:\n",
    "        # Try reading as a valid .xls file\n",
    "        try:\n",
    "            df = pd.read_excel(file_path, engine=\"xlrd\")\n",
    "        except Exception as e:\n",
    "            print(f\"Warning: {file_path} is not a valid .xls file. Attempting to read as plain text.\")\n",
    "            # If it's not a valid .xls, try reading as a text-delimited file\n",
    "            df = pd.read_csv(file_path, delimiter=\"\\t\", engine=\"python\")  # Adjust delimiter if needed\n",
    "\n",
    "        # Generate output .xlsx filename\n",
    "        output_file = os.path.join(output_path, os.path.splitext(os.path.basename(file_path))[0] + \".xlsx\")\n",
    "        # Save the DataFrame as an .xlsx file\n",
    "        df.to_excel(output_file, index=False, engine=\"openpyxl\")\n",
    "        print(f\"Converted and saved: {output_file}\")\n",
    "    except Exception as e:\n",
    "        print(f\"Error processing {file_path}: {e}\")\n",
    "\n",
    "# Loop through all files in the input folder\n",
    "for filename in os.listdir(input_folder):\n",
    "    if filename.endswith(\".xls\"):  # Only process .xls files\n",
    "        file_path = os.path.join(input_folder, filename)\n",
    "        convert_file_to_xlsx(file_path, output_folder)\n",
    "\n",
    "print(f\"All files have been processed and saved to {output_folder}\")\n"
   ]
  }
 ],
 "metadata": {
  "kernelspec": {
   "display_name": "Python 3",
   "language": "python",
   "name": "python3"
  },
  "language_info": {
   "codemirror_mode": {
    "name": "ipython",
    "version": 3
   },
   "file_extension": ".py",
   "mimetype": "text/x-python",
   "name": "python",
   "nbconvert_exporter": "python",
   "pygments_lexer": "ipython3",
   "version": "3.8.8"
  }
 },
 "nbformat": 4,
 "nbformat_minor": 5
}
